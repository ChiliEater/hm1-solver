{
 "cells": [
  {
   "cell_type": "code",
   "execution_count": 6,
   "metadata": {},
   "outputs": [],
   "source": [
    "from IPython import get_ipython\n",
    "ip = get_ipython()\n",
    "ip.run_line_magic(\"reload_ext\", \"autoreload\")\n",
    "ip.run_line_magic(\"autoreload\", \"2\")\n",
    "\n",
    "import sympy as sp\n",
    "import numpy as np\n",
    "import matplotlib.pyplot as plt\n",
    "import ipyutils as util\n",
    "np.set_printoptions(suppress=True)\n",
    "sp.init_printing(use_latex=True)"
   ]
  },
  {
   "attachments": {},
   "cell_type": "markdown",
   "metadata": {},
   "source": [
    "# Machine numbers\n",
    "\n",
    "In disem modul wird allgemein in Base 10 mit vier Nachkommastellen gearbeitet."
   ]
  },
  {
   "cell_type": "code",
   "execution_count": 11,
   "metadata": {},
   "outputs": [
    {
     "data": {
      "text/markdown": [
       "58.126654 as scientific: $\\left( 0.58126654, \\  10, \\  2\\right)$"
      ],
      "text/plain": [
       "<IPython.core.display.Markdown object>"
      ]
     },
     "metadata": {},
     "output_type": "display_data"
    },
    {
     "data": {
      "text/markdown": [
       "{'mantissa': 0.58126654, 'exponent': 2, 'base': 10} as float: $58.126654$"
      ],
      "text/plain": [
       "<IPython.core.display.Markdown object>"
      ]
     },
     "metadata": {},
     "output_type": "display_data"
    },
    {
     "name": "stdout",
     "output_type": "stream",
     "text": [
      "\n"
     ]
    },
    {
     "data": {
      "text/markdown": [
       "{'mantissa_length': 4, 'exp_min': 0, 'exp_max': 3, 'base': 10} range: $\\left( 0.1, \\  999.9\\right)$"
      ],
      "text/plain": [
       "<IPython.core.display.Markdown object>"
      ]
     },
     "metadata": {},
     "output_type": "display_data"
    },
    {
     "data": {
      "text/markdown": [
       "Absolute error of x: $0.000299999999999301$"
      ],
      "text/plain": [
       "<IPython.core.display.Markdown object>"
      ]
     },
     "metadata": {},
     "output_type": "display_data"
    },
    {
     "data": {
      "text/markdown": [
       "Relative error of x: $5.6126171633702 \\cdot 10^{-5}$"
      ],
      "text/plain": [
       "<IPython.core.display.Markdown object>"
      ]
     },
     "metadata": {},
     "output_type": "display_data"
    },
    {
     "data": {
      "text/markdown": [
       "EPS for number with mantissa length 8: $5.0 \\cdot 10^{-8}$"
      ],
      "text/plain": [
       "<IPython.core.display.Markdown object>"
      ]
     },
     "metadata": {},
     "output_type": "display_data"
    },
    {
     "data": {
      "text/markdown": [
       "Condition of func: $1.72770962954895$"
      ],
      "text/plain": [
       "<IPython.core.display.Markdown object>"
      ]
     },
     "metadata": {},
     "output_type": "display_data"
    },
    {
     "data": {
      "text/markdown": [
       "Lower condition is better!"
      ],
      "text/plain": [
       "<IPython.core.display.Markdown object>"
      ]
     },
     "metadata": {},
     "output_type": "display_data"
    },
    {
     "data": {
      "image/png": "[encoded data removed]",
      "text/latex": [
       "$\\displaystyle 1.72770962954895$"
      ],
      "text/plain": [
       "1.727709629548951"
      ]
     },
     "metadata": {},
     "output_type": "display_data"
    }
   ],
   "source": [
    "from machine_accuracy import convert\n",
    "from machine_accuracy import accuracy\n",
    "\n",
    "num_float = 58.126654\n",
    "num_scientific = {\n",
    "    \"mantissa\": 0.58126654,\n",
    "    \"exponent\": 2,\n",
    "    \"base\": 10\n",
    "}\n",
    "\n",
    "limits = {\n",
    "    \"mantissa_length\": 4,\n",
    "    \"exp_min\": 0,\n",
    "    \"exp_max\": 3,\n",
    "    \"base\": 10\n",
    "}\n",
    "\n",
    "x = 5.3451\n",
    "x_err = 5.3454\n",
    "\n",
    "float_info = {\n",
    "    \"digits\": 8,\n",
    "    \"base\": 10\n",
    "}\n",
    "\n",
    "def func(x):\n",
    "    return x ** 2 + 2 * x\n",
    "\n",
    "def derivative(x):\n",
    "    return 2 * x + 2\n",
    "\n",
    "util.dis(f'{num_float} as scientific', convert.to_scientific(num_float))\n",
    "util.dis(f'{num_scientific} as float', convert.to_float(**num_scientific))\n",
    "print(\"\")\n",
    "util.dis(f'{limits} range', accuracy.limits(**limits))\n",
    "util.dis(f'Absolute error of x', accuracy.absolute_error(approximation=x_err, exact=x))\n",
    "util.dis(f'Relative error of x', accuracy.relative_error(approximation=x_err, exact=x))\n",
    "util.dis(f'EPS for number with mantissa length {float_info[\"digits\"]}', accuracy.eps(**float_info))\n",
    "util.dis(f'Condition of func', accuracy.condition(func=func, derivative=derivative, x=x))\n",
    "util.dis('Lower condition is better!')\n",
    "util.dis(expr=accuracy.condition(func=func, derivative=derivative, x=x))"
   ]
  },
  {
   "attachments": {},
   "cell_type": "markdown",
   "metadata": {},
   "source": [
    "# Fixed-point iteration\n",
    "\n",
    "The equation must first be transformed into its fixed-point form:\n",
    "\n",
    "$$f(x) = 0 \\rarr F(x) = x$$"
   ]
  },
  {
   "cell_type": "code",
   "execution_count": null,
   "metadata": {},
   "outputs": [],
   "source": []
  }
 ],
 "metadata": {
  "kernelspec": {
   "display_name": "hm1-solver-6W2I7N4w",
   "language": "python",
   "name": "python3"
  },
  "language_info": {
   "codemirror_mode": {
    "name": "ipython",
    "version": 3
   },
   "file_extension": ".py",
   "mimetype": "text/x-python",
   "name": "python",
   "nbconvert_exporter": "python",
   "pygments_lexer": "ipython3",
   "version": "3.10.9"
  },
  "orig_nbformat": 4,
  "vscode": {
   "interpreter": {
    "hash": "be6219a35d184365fe33a2957fd67fbfbbfe5faa5c6903d0385bbfa473c245e7"
   }
  }
 },
 "nbformat": 4,
 "nbformat_minor": 2
}
