{
 "cells": [
  {
   "cell_type": "code",
   "execution_count": 19,
   "metadata": {},
   "outputs": [],
   "source": [
    "from IPython import get_ipython\n",
    "ip = get_ipython()\n",
    "ip.run_line_magic(\"reload_ext\", \"autoreload\")\n",
    "ip.run_line_magic(\"autoreload\", \"2\")"
   ]
  },
  {
   "attachments": {},
   "cell_type": "markdown",
   "metadata": {},
   "source": [
    "# Machine numbers"
   ]
  },
  {
   "cell_type": "code",
   "execution_count": 39,
   "metadata": {},
   "outputs": [
    {
     "name": "stdout",
     "output_type": "stream",
     "text": [
      "58.126654 as scientific: (0.58126654, 10, 2)\n",
      "{'mantissa': 0.58126654, 'exponent': 2, 'base': 10} as float: 58.126654\n",
      "\n",
      "{'mantissa_length': 4, 'exp_min': 0, 'exp_max': 3, 'base': 10} range: (0.1, 999.9)\n",
      "Absolute error of x: 0.0002999999999993008\n",
      "Relative error of x: 5.612617163370205e-05\n",
      "EPS for number with mantissa length 8: 5e-08\n",
      "Condition of func: 1.727709629548951, lower is better!\n"
     ]
    }
   ],
   "source": [
    "from machine_accuracy import convert\n",
    "from machine_accuracy import accuracy\n",
    "\n",
    "num_float = 58.126654\n",
    "num_scientific = {\n",
    "    \"mantissa\": 0.58126654,\n",
    "    \"exponent\": 2,\n",
    "    \"base\": 10\n",
    "}\n",
    "\n",
    "limits = {\n",
    "    \"mantissa_length\": 4,\n",
    "    \"exp_min\": 0,\n",
    "    \"exp_max\": 3,\n",
    "    \"base\": 10\n",
    "}\n",
    "\n",
    "x = 5.3451\n",
    "x_err = 5.3454\n",
    "\n",
    "float_info = {\n",
    "    \"digits\": 8,\n",
    "    \"base\": 10\n",
    "}\n",
    "\n",
    "def func(x):\n",
    "    return x ** 2 + 2 * x\n",
    "\n",
    "def derivative(x):\n",
    "    return 2 * x + 2\n",
    "\n",
    "print(f'{num_float} as scientific: {convert.to_scientific(num_float)}')\n",
    "print(f'{num_scientific} as float: {convert.to_float(**num_scientific)}')\n",
    "print(\"\")\n",
    "print(f'{limits} range: {accuracy.limits(**limits)}')\n",
    "print(f'Absolute error of x: {accuracy.absolute_error(approximation=x_err, exact=x)}')\n",
    "print(f'Relative error of x: {accuracy.relative_error(approximation=x_err, exact=x)}')\n",
    "print(f'EPS for number with mantissa length {float_info[\"digits\"]}: {accuracy.eps(**float_info)}')\n",
    "print(f'Condition of func: {accuracy.condition(func=func, derivative=derivative, x=x)}, lower is better!')\n"
   ]
  }
 ],
 "metadata": {
  "kernelspec": {
   "display_name": "hm1-solver-6W2I7N4w",
   "language": "python",
   "name": "python3"
  },
  "language_info": {
   "codemirror_mode": {
    "name": "ipython",
    "version": 3
   },
   "file_extension": ".py",
   "mimetype": "text/x-python",
   "name": "python",
   "nbconvert_exporter": "python",
   "pygments_lexer": "ipython3",
   "version": "3.10.9"
  },
  "orig_nbformat": 4,
  "vscode": {
   "interpreter": {
    "hash": "be6219a35d184365fe33a2957fd67fbfbbfe5faa5c6903d0385bbfa473c245e7"
   }
  }
 },
 "nbformat": 4,
 "nbformat_minor": 2
}
