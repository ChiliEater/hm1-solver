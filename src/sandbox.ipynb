{
 "cells": [
  {
   "cell_type": "code",
   "execution_count": 5,
   "metadata": {},
   "outputs": [],
   "source": [
    "from IPython import get_ipython\n",
    "ip = get_ipython()\n",
    "ip.run_line_magic(\"reload_ext\", \"autoreload\")\n",
    "ip.run_line_magic(\"autoreload\", \"2\")\n",
    "\n",
    "import sympy as sp\n",
    "import numpy as np\n",
    "import matplotlib.pyplot as plt\n",
    "import ipyutils as util\n",
    "np.set_printoptions(suppress=True)\n",
    "sp.init_printing(use_latex=True)"
   ]
  },
  {
   "attachments": {},
   "cell_type": "markdown",
   "metadata": {},
   "source": [
    "# Machine numbers\n",
    "\n",
    "In disem modul wird allgemein in Base 10 mit vier Nachkommastellen gearbeitet."
   ]
  },
  {
   "cell_type": "code",
   "execution_count": 11,
   "metadata": {},
   "outputs": [
    {
     "data": {
      "text/markdown": [
       "58.126654 as scientific: $\\left( 0.58126654, \\  10, \\  2\\right)$"
      ],
      "text/plain": [
       "<IPython.core.display.Markdown object>"
      ]
     },
     "metadata": {},
     "output_type": "display_data"
    },
    {
     "data": {
      "text/markdown": [
       "{'mantissa': 0.58126654, 'exponent': 2, 'base': 10} as float: $58.126654$"
      ],
      "text/plain": [
       "<IPython.core.display.Markdown object>"
      ]
     },
     "metadata": {},
     "output_type": "display_data"
    },
    {
     "name": "stdout",
     "output_type": "stream",
     "text": [
      "\n"
     ]
    },
    {
     "data": {
      "text/markdown": [
       "{'mantissa_length': 4, 'exp_min': 0, 'exp_max': 3, 'base': 10} range: $\\left( 0.1, \\  999.9\\right)$"
      ],
      "text/plain": [
       "<IPython.core.display.Markdown object>"
      ]
     },
     "metadata": {},
     "output_type": "display_data"
    },
    {
     "data": {
      "text/markdown": [
       "Absolute error of x: $0.000299999999999301$"
      ],
      "text/plain": [
       "<IPython.core.display.Markdown object>"
      ]
     },
     "metadata": {},
     "output_type": "display_data"
    },
    {
     "data": {
      "text/markdown": [
       "Relative error of x: $5.6126171633702 \\cdot 10^{-5}$"
      ],
      "text/plain": [
       "<IPython.core.display.Markdown object>"
      ]
     },
     "metadata": {},
     "output_type": "display_data"
    },
    {
     "data": {
      "text/markdown": [
       "EPS for number with mantissa length 8: $5.0 \\cdot 10^{-8}$"
      ],
      "text/plain": [
       "<IPython.core.display.Markdown object>"
      ]
     },
     "metadata": {},
     "output_type": "display_data"
    },
    {
     "data": {
      "text/markdown": [
       "Condition of func: $1.72770962954895$"
      ],
      "text/plain": [
       "<IPython.core.display.Markdown object>"
      ]
     },
     "metadata": {},
     "output_type": "display_data"
    },
    {
     "data": {
      "text/markdown": [
       "Lower condition is better!"
      ],
      "text/plain": [
       "<IPython.core.display.Markdown object>"
      ]
     },
     "metadata": {},
     "output_type": "display_data"
    },
    {
     "data": {
      "image/png": "[encoded data removed]",
      "text/latex": [
       "$\\displaystyle 1.72770962954895$"
      ],
      "text/plain": [
       "1.727709629548951"
      ]
     },
     "metadata": {},
     "output_type": "display_data"
    }
   ],
   "source": [
    "from machine_accuracy import convert\n",
    "from machine_accuracy import accuracy\n",
    "\n",
    "num_float = 58.126654\n",
    "num_scientific = {\n",
    "    \"mantissa\": 0.58126654,\n",
    "    \"exponent\": 2,\n",
    "    \"base\": 10\n",
    "}\n",
    "\n",
    "limits = {\n",
    "    \"mantissa_length\": 4,\n",
    "    \"exp_min\": 0,\n",
    "    \"exp_max\": 3,\n",
    "    \"base\": 10\n",
    "}\n",
    "\n",
    "x = 5.3451\n",
    "x_err = 5.3454\n",
    "\n",
    "float_info = {\n",
    "    \"digits\": 8,\n",
    "    \"base\": 10\n",
    "}\n",
    "\n",
    "def func(x):\n",
    "    return x ** 2 + 2 * x\n",
    "\n",
    "def derivative(x):\n",
    "    return 2 * x + 2\n",
    "\n",
    "util.dis(f'{num_float} as scientific', convert.to_scientific(num_float))\n",
    "util.dis(f'{num_scientific} as float', convert.to_float(**num_scientific))\n",
    "print(\"\")\n",
    "util.dis(f'{limits} range', accuracy.limits(**limits))\n",
    "util.dis(f'Absolute error of x', accuracy.absolute_error(approximation=x_err, exact=x))\n",
    "util.dis(f'Relative error of x', accuracy.relative_error(approximation=x_err, exact=x))\n",
    "util.dis(f'EPS for number with mantissa length {float_info[\"digits\"]}', accuracy.eps(**float_info))\n",
    "util.dis(f'Condition of func', accuracy.condition(func=func, derivative=derivative, x=x))\n",
    "util.dis('Lower condition is better!')\n",
    "util.dis(expr=accuracy.condition(func=func, derivative=derivative, x=x))"
   ]
  },
  {
   "attachments": {},
   "cell_type": "markdown",
   "metadata": {},
   "source": [
    "# Fixed-point iteration\n",
    "\n",
    "The equation must first be transformed into its fixed-point form:\n",
    "\n",
    "$$f(x) = 0 \\rarr F(x) = x$$"
   ]
  },
  {
   "cell_type": "code",
   "execution_count": 17,
   "metadata": {},
   "outputs": [
    {
     "name": "stdout",
     "output_type": "stream",
     "text": [
      "[[ 6  1  2  1  2]\n",
      " [ 1  5  0  2 -1]\n",
      " [ 2  0  5 -1  0]\n",
      " [ 1  2 -1  6  1]\n",
      " [ 2 -1  0  1  7]]\n",
      "\n",
      "[[ 9.46410162 -0.          0.         -0.          0.        ]\n",
      " [ 0.          7.58836399 -0.         -0.          0.        ]\n",
      " [-0.         -0.          6.59357935 -0.         -0.        ]\n",
      " [ 0.          0.         -0.          2.81805666 -0.        ]\n",
      " [ 0.         -0.         -0.         -0.          2.53589838]]\n",
      "\n",
      "[[ 0.63053937 -0.1342784   0.38589667 -0.22459826 -0.62050689]\n",
      " [ 0.19052975  0.57578471  0.33454367 -0.54376736  0.47388604]\n",
      " [ 0.19052975 -0.34756137  0.61495696  0.49006068  0.47388604]\n",
      " [ 0.41053456  0.63105853 -0.20818937  0.62008812 -0.07331043]\n",
      " [ 0.60106431 -0.36250174 -0.56360396 -0.17089159  0.40057561]]\n",
      "\n",
      "[2.53589838 2.81805666 9.46410162 6.59357935 7.58836399]\n",
      "[[-0.62050689  0.22459826  0.63053937 -0.38589667  0.1342784 ]\n",
      " [ 0.47388604  0.54376736  0.19052975 -0.33454367 -0.57578471]\n",
      " [ 0.47388604 -0.49006068  0.19052975 -0.61495696  0.34756137]\n",
      " [-0.07331043 -0.62008812  0.41053456  0.20818937 -0.63105853]\n",
      " [ 0.40057561  0.17089159  0.60106431  0.56360396  0.36250174]]\n"
     ]
    }
   ],
   "source": [
    "import numpy as np\n",
    "\n",
    "def start(A: np.ndarray, max_depth):\n",
    "    return step(A, np.eye(A.shape[0]), 0, max_depth)\n",
    "\n",
    "def step(A, P, depth, max_depth):\n",
    "    Q, R = np.linalg.qr(A)\n",
    "    if depth > max_depth:\n",
    "        return R@Q, P@Q\n",
    "    else:\n",
    "        return step(R@Q, P@Q, depth + 1, max_depth)\n",
    "\n",
    "\n",
    "#A = np.array([1,-2,0,2,0,1,0,-2,1]).reshape(3,3)\n",
    "\n",
    "A = np.array([6,1,2,1,2,1,5,0,2,-1,2,0,5,-1,0,1,2,-1,6,1,2,-1,0,1,7]).reshape(5,5)\n",
    "A_i, P = start(A, 200)\n",
    "print(A)\n",
    "print()\n",
    "print(A_i)\n",
    "print()\n",
    "print(P)\n",
    "print()\n",
    "print(np.linalg.eig(A)[0])\n",
    "print(np.linalg.eig(A)[1])"
   ]
  },
  {
   "cell_type": "code",
   "execution_count": 27,
   "metadata": {},
   "outputs": [
    {
     "name": "stdout",
     "output_type": "stream",
     "text": [
      "[[ 1  1  0]\n",
      " [ 3 -1  2]\n",
      " [ 2 -1  3]]\n",
      "\n",
      "[[1]\n",
      " [0]\n",
      " [0]]\n",
      "\n",
      "[[0.29816784]\n",
      " [0.59627983]\n",
      " [0.74534979]]\n",
      "\n",
      "[[3.00007493]]\n",
      "\n",
      "Done in 14 steps\n"
     ]
    }
   ],
   "source": [
    "import numpy as np\n",
    "\n",
    "steps = 0\n",
    "\n",
    "def error_below_threshold(old_x: np.ndarray, new_x: np.ndarray, threshold):\n",
    "    return np.linalg.norm(new_x - old_x, 2) < threshold\n",
    "\n",
    "def vectoriteration(A, start, threshold=10**-4):\n",
    "    v = (A @ start) / np.linalg.norm(A @ start, 2)\n",
    "    global steps\n",
    "    steps += 1\n",
    "    if error_below_threshold(start, v, threshold):\n",
    "        return v, (v.T @ A @ v) / (v.T @ v)\n",
    "    else:\n",
    "        return vectoriteration(A, v, threshold)\n",
    "\n",
    "A = np.array([1,1,0,3,-1,2,2,-1,3]).reshape(3,3)\n",
    "start = np.array([1,0,0]).reshape(3,1)\n",
    "print(A)\n",
    "print()\n",
    "print(start)\n",
    "print()\n",
    "steps = 0\n",
    "v, l = vectoriteration(A, start)\n",
    "print(v)\n",
    "print()\n",
    "print(l)\n",
    "print()\n",
    "print(f'Done in {steps} steps')"
   ]
  },
  {
   "cell_type": "code",
   "execution_count": null,
   "metadata": {},
   "outputs": [],
   "source": []
  }
 ],
 "metadata": {
  "kernelspec": {
   "display_name": "hm1-solver-LsOwassu",
   "language": "python",
   "name": "python3"
  },
  "language_info": {
   "codemirror_mode": {
    "name": "ipython",
    "version": 3
   },
   "file_extension": ".py",
   "mimetype": "text/x-python",
   "name": "python",
   "nbconvert_exporter": "python",
   "pygments_lexer": "ipython3",
   "version": "3.10.9"
  },
  "orig_nbformat": 4,
  "vscode": {
   "interpreter": {
    "hash": "8b1ab1e87b134299e1981a30f2eb327ec6ee6a8ada98c0698f5505d8dd97bd53"
   }
  }
 },
 "nbformat": 4,
 "nbformat_minor": 2
}
